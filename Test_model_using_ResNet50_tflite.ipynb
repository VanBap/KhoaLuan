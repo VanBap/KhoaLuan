{
  "cells": [
    {
      "cell_type": "markdown",
      "metadata": {
        "id": "view-in-github",
        "colab_type": "text"
      },
      "source": [
        "<a href=\"https://colab.research.google.com/github/VanBap/Adverse_Weather/blob/master/Test_model_using_ResNet50_tflite.ipynb\" target=\"_parent\"><img src=\"https://colab.research.google.com/assets/colab-badge.svg\" alt=\"Open In Colab\"/></a>"
      ]
    },
    {
      "cell_type": "code",
      "execution_count": 1,
      "metadata": {
        "id": "0r0X3BUb5G5c"
      },
      "outputs": [],
      "source": [
        "# Ngô Hoàng Khánh Văn - 20021599\n",
        "\n",
        "from tensorflow import keras\n",
        "\n",
        "from tensorflow.keras.models import Model\n",
        "\n",
        "from tensorflow.keras.applications.resnet50 import preprocess_input, decode_predictions\n",
        "from tensorflow.keras.preprocessing.image import ImageDataGenerator, load_img\n",
        "from tensorflow.keras.applications.resnet50 import ResNet50\n",
        "from tensorflow.keras.preprocessing import image\n",
        "\n",
        "\n",
        "import tensorflow as tf\n",
        "import os\n",
        "import matplotlib.pyplot as plt\n",
        "import numpy as np\n",
        "import glob\n",
        "import pathlib\n",
        "import pandas as pd"
      ]
    },
    {
      "cell_type": "code",
      "execution_count": 2,
      "metadata": {
        "colab": {
          "base_uri": "https://localhost:8080/"
        },
        "id": "JpTr0-Ah4Ilf",
        "outputId": "deb6f132-b12f-4cc9-faaf-21e3dee05977"
      },
      "outputs": [
        {
          "output_type": "stream",
          "name": "stdout",
          "text": [
            "Mounted at /content/drive\n"
          ]
        }
      ],
      "source": [
        "# Run this cell if u can't mount ur drive automatically\n",
        "from google.colab import drive\n",
        "drive.mount('/content/drive')"
      ]
    },
    {
      "cell_type": "code",
      "execution_count": 3,
      "metadata": {
        "colab": {
          "base_uri": "https://localhost:8080/"
        },
        "id": "_YMPOer14Rah",
        "outputId": "c56e7cec-d81c-4c31-f2e4-9646524327c8"
      },
      "outputs": [
        {
          "output_type": "stream",
          "name": "stdout",
          "text": [
            "Found 1289 images belonging to 7 classes.\n",
            "Found 428 images belonging to 7 classes.\n",
            "Found 435 images belonging to 7 classes.\n"
          ]
        },
        {
          "output_type": "execute_result",
          "data": {
            "text/plain": [
              "{'Cloudy': 0,\n",
              " 'Fog': 1,\n",
              " 'Rainy': 2,\n",
              " 'Sandy': 3,\n",
              " 'Shine': 4,\n",
              " 'Snowy': 5,\n",
              " 'Sunrise': 6}"
            ]
          },
          "metadata": {},
          "execution_count": 3
        }
      ],
      "source": [
        "train_data_dir = '/content/drive/MyDrive/KHOA_LUAN/DATASET_splitted/train'\n",
        "valid_data_dir = '/content/drive/MyDrive/KHOA_LUAN/DATASET_splitted/val'\n",
        "test_data_dir = '/content/drive/MyDrive/KHOA_LUAN/DATASET_splitted/test'\n",
        "\n",
        "img_height, img_width = (224, 224)\n",
        "batch_size = 32\n",
        "\n",
        "train_datagen = ImageDataGenerator(preprocessing_function=preprocess_input,\n",
        "                                   shear_range=0.2,\n",
        "                                   zoom_range=0.2,\n",
        "                                   horizontal_flip=True\n",
        "                                   )\n",
        "# tạo dữ liệu tăng cường: xoay ảnh = 0.2; phóng to = 0.2; lật ảnh ngang; giữ 40% cho validation\n",
        "\n",
        "train_generator = train_datagen.flow_from_directory(\n",
        "    train_data_dir,\n",
        "    target_size=(img_height, img_width),\n",
        "    batch_size = batch_size,\n",
        "    class_mode='categorical')\n",
        "    #subset='training') # set as training data\n",
        "\n",
        "valid_generator = train_datagen.flow_from_directory(\n",
        "    valid_data_dir,\n",
        "    target_size=(img_height, img_width),\n",
        "    batch_size = batch_size,\n",
        "    class_mode='categorical')\n",
        "    #subset='validation') # set as validation data\n",
        "\n",
        "test_generator = train_datagen.flow_from_directory(\n",
        "    test_data_dir,\n",
        "    target_size=(img_height, img_width),\n",
        "    batch_size = 1,\n",
        "    class_mode='categorical')\n",
        "    #subset='validation') # set as testing data\n",
        "\n",
        "train_generator.class_indices\n",
        "valid_generator.class_indices\n",
        "test_generator.class_indices"
      ]
    },
    {
      "cell_type": "markdown",
      "source": [
        "**Test độ chính xác của model .tflite sau khi được lượng tử hóa float16**\n",
        "\n",
        "\n"
      ],
      "metadata": {
        "id": "PIMUNcXS0dBJ"
      }
    },
    {
      "cell_type": "code",
      "execution_count": 4,
      "metadata": {
        "colab": {
          "base_uri": "https://localhost:8080/"
        },
        "id": "MvyC5cRH5c4O",
        "outputId": "2cf4c87a-5538-40fd-ab76-856e2b2f3c8a"
      },
      "outputs": [
        {
          "output_type": "stream",
          "name": "stdout",
          "text": [
            "input_details là:  [{'name': 'serving_default_resnet50_input:0', 'index': 0, 'shape': array([  1, 224, 224,   3], dtype=int32), 'shape_signature': array([-1, -1, -1,  3], dtype=int32), 'dtype': <class 'numpy.float32'>, 'quantization': (0.0, 0), 'quantization_parameters': {'scales': array([], dtype=float32), 'zero_points': array([], dtype=int32), 'quantized_dimension': 0}, 'sparsity_parameters': {}}]\n",
            "[{'name': 'StatefulPartitionedCall:0', 'index': 299, 'shape': array([1, 7], dtype=int32), 'shape_signature': array([-1,  7], dtype=int32), 'dtype': <class 'numpy.float32'>, 'quantization': (0.0, 0), 'quantization_parameters': {'scales': array([], dtype=float32), 'zero_points': array([], dtype=int32), 'quantized_dimension': 0}, 'sparsity_parameters': {}}]\n"
          ]
        }
      ],
      "source": [
        "import tensorflow as tf\n",
        "\n",
        "# Load model\n",
        "model_path = '/content/drive/MyDrive/KHOA_LUAN/saved_model/ResNet50_Weather_epoch20_optimizing_date24.tflite'\n",
        "interpreter = tf.lite.Interpreter(model_path=model_path)\n",
        "interpreter.allocate_tensors()\n",
        "\n",
        "# Get input and output details\n",
        "input_details = interpreter.get_input_details()\n",
        "output_details = interpreter.get_output_details()\n",
        "# Resize Tensor Shape\n",
        "interpreter.resize_tensor_input(input_details[0]['index'], (1, 224, 224, 3))\n",
        "#interpreter.resize_tensor_input(output_details[0]['index'], (1, 7))\n",
        "interpreter.allocate_tensors()\n",
        "\n",
        "input_details = interpreter.get_input_details()\n",
        "output_details = interpreter.get_output_details()\n",
        "# Perform evaluation\n",
        "print(\"input_details là: \", input_details)\n",
        "print(output_details)\n",
        "correct_predictions = 0\n",
        "total_samples = 0\n",
        "\n",
        "for images, labels in test_generator:\n",
        "    interpreter.set_tensor(input_details[0]['index'], images)\n",
        "    interpreter.invoke()\n",
        "    output_data = interpreter.get_tensor(output_details[0]['index'])\n",
        "    predictions = tf.argmax(output_data, axis=1)\n",
        "    correct_predictions += tf.reduce_sum(tf.cast(tf.equal(predictions, labels), dtype=tf.int32))\n",
        "    total_samples += len(labels)\n",
        "\n",
        "    # Thêm điều kiện để thoát khỏi vòng lặp khi đã thử nghiệm hết tất cả các mẫu\n",
        "    if total_samples >= len(test_generator.filenames):\n",
        "        break\n"
      ]
    },
    {
      "cell_type": "code",
      "source": [
        "# Calculate accuracy\n",
        "test_accuracy = correct_predictions / total_samples\n",
        "print('Total samples:', total_samples)\n",
        "print('Correct predictions:', correct_predictions)\n",
        "print('Test accuracy:', test_accuracy.numpy())"
      ],
      "metadata": {
        "id": "g57mvb9vyD8k",
        "colab": {
          "base_uri": "https://localhost:8080/"
        },
        "outputId": "33acb99b-2e0e-45c0-af8d-7d12954ed2ee"
      },
      "execution_count": 10,
      "outputs": [
        {
          "output_type": "stream",
          "name": "stdout",
          "text": [
            "Total samples: 435\n",
            "Correct predictions: tf.Tensor(409, shape=(), dtype=int32)\n",
            "Test accuracy: 0.9402298850574713\n"
          ]
        }
      ]
    }
  ],
  "metadata": {
    "accelerator": "GPU",
    "colab": {
      "gpuType": "T4",
      "provenance": [],
      "authorship_tag": "ABX9TyPRWUUoC5QN2hIWbyCVxowu",
      "include_colab_link": true
    },
    "kernelspec": {
      "display_name": "Python 3",
      "name": "python3"
    },
    "language_info": {
      "name": "python"
    }
  },
  "nbformat": 4,
  "nbformat_minor": 0
}