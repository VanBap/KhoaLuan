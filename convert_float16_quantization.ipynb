{
  "nbformat": 4,
  "nbformat_minor": 0,
  "metadata": {
    "colab": {
      "provenance": [],
      "authorship_tag": "ABX9TyNSuclDaYHWkt5zyVbPwnXb",
      "include_colab_link": true
    },
    "kernelspec": {
      "name": "python3",
      "display_name": "Python 3"
    },
    "language_info": {
      "name": "python"
    }
  },
  "cells": [
    {
      "cell_type": "markdown",
      "metadata": {
        "id": "view-in-github",
        "colab_type": "text"
      },
      "source": [
        "<a href=\"https://colab.research.google.com/github/VanBap/Adverse_Weather/blob/master/convert_float16_quantization.ipynb\" target=\"_parent\"><img src=\"https://colab.research.google.com/assets/colab-badge.svg\" alt=\"Open In Colab\"/></a>"
      ]
    },
    {
      "cell_type": "code",
      "source": [
        "# Run this cell if u can't mount ur drive automatically\n",
        "from google.colab import drive\n",
        "drive.mount('/content/drive')"
      ],
      "metadata": {
        "colab": {
          "base_uri": "https://localhost:8080/"
        },
        "id": "4rX50fTwxiee",
        "outputId": "28e97398-b60f-4e9f-efab-3152b0237569"
      },
      "execution_count": null,
      "outputs": [
        {
          "output_type": "stream",
          "name": "stdout",
          "text": [
            "Mounted at /content/drive\n"
          ]
        }
      ]
    },
    {
      "cell_type": "markdown",
      "source": [
        "Convert model .h5 -> model .tflite and Post-training quantization\n"
      ],
      "metadata": {
        "id": "IozBcbhn3Z27"
      }
    },
    {
      "cell_type": "code",
      "execution_count": null,
      "metadata": {
        "id": "Cii1KnMIxZ_8",
        "colab": {
          "base_uri": "https://localhost:8080/"
        },
        "outputId": "1d205a59-8bae-4db6-fb04-988dd45b83cb"
      },
      "outputs": [
        {
          "output_type": "stream",
          "name": "stderr",
          "text": [
            "WARNING:absl:`mobilenetv2_1.00_224_input` is not a valid tf.function parameter name. Sanitizing to `mobilenetv2_1_00_224_input`.\n",
            "WARNING:absl:`mobilenetv2_1.00_224_input` is not a valid tf.function parameter name. Sanitizing to `mobilenetv2_1_00_224_input`.\n",
            "WARNING:absl:`mobilenetv2_1.00_224_input` is not a valid tf.function parameter name. Sanitizing to `mobilenetv2_1_00_224_input`.\n"
          ]
        }
      ],
      "source": [
        "import tensorflow as tf\n",
        "import pathlib\n",
        "\n",
        "# Switch model name\n",
        "MODEL_NAME_PATH_1 = '/content/drive/MyDrive/KHOA_LUAN/saved_model/ResNet50/ResNet50_checkpoint--loss-0.25-acc-0.91.h5'\n",
        "MODEL_NAME_PATH_2 = '/content/drive/MyDrive/KHOA_LUAN/saved_model/EfficientNetB0/EfficientNetB0_checkpoint--loss-0.28-acc-0.91.h5'\n",
        "MODEL_NAME_PATH_3 = \"/content/drive/MyDrive/KHOA_LUAN/saved_model/SqueezeNet/SqueezeNet_epcoh30_checkpoint--loss-0.75-acc-0.71.h5\"\n",
        "MODEL_NAME_PATH_4 = '/content/drive/MyDrive/KHOA_LUAN/saved_model/MobileNetV2/MobileNetV2_checkpoint--loss-0.63-acc-0.78.h5'\n",
        "LOAD_MODEL_PATH = MODEL_NAME_PATH_4\n",
        "\n",
        "# Load model\n",
        "model=tf.keras.models.load_model(LOAD_MODEL_PATH)\n",
        "\n",
        "\n",
        "# Convert the model to a TensorFlow Lite model\n",
        "converter = tf.lite.TFLiteConverter.from_keras_model(model)\n",
        "\n",
        "converter.optimizations = [tf.lite.Optimize.DEFAULT]\n",
        "converter.target_spec.supported_types = [tf.float16]\n",
        "\n",
        "\n",
        "MODEL_TFLITE_NAME_PATH_1 = '/content/drive/MyDrive/KHOA_LUAN/saved_model/ResNet50/ResNet50_checkpoint_optimizing.tflite'\n",
        "MODEL_TFLITE_NAME_PATH_2 = '/content/drive/MyDrive/KHOA_LUAN/saved_model/EfficientNetB0/EfficientNetB0_checkpoint_optimizing.tflite'\n",
        "MODEL_TFLITE_NAME_PATH_3 = \"/content/drive/MyDrive/KHOA_LUAN/saved_model/SqueezeNet/SqueezeNet_checkpoint_optimizing.tflite\"\n",
        "MODEL_TFLITE_NAME_PATH_4 = \"/content/drive/MyDrive/KHOA_LUAN/saved_model/MobileNetV2/MobileNetV2_checkpoint_optimizing.tflite\"\n",
        "SAVE_TFLITE_MODEL_PATH = MODEL_TFLITE_NAME_PATH_4\n",
        "\n",
        "tflite_model = converter.convert()\n",
        "with open(SAVE_TFLITE_MODEL_PATH, 'wb') as f:\n",
        "    f.write(tflite_model)\n",
        "\n"
      ]
    }
  ]
}