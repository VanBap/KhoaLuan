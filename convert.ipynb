{
  "nbformat": 4,
  "nbformat_minor": 0,
  "metadata": {
    "colab": {
      "provenance": [],
      "authorship_tag": "ABX9TyMNUgoelFwKYYg7cnAqZSiD",
      "include_colab_link": true
    },
    "kernelspec": {
      "name": "python3",
      "display_name": "Python 3"
    },
    "language_info": {
      "name": "python"
    }
  },
  "cells": [
    {
      "cell_type": "markdown",
      "metadata": {
        "id": "view-in-github",
        "colab_type": "text"
      },
      "source": [
        "<a href=\"https://colab.research.google.com/github/VanBap/Adverse_Weather/blob/master/convert.ipynb\" target=\"_parent\"><img src=\"https://colab.research.google.com/assets/colab-badge.svg\" alt=\"Open In Colab\"/></a>"
      ]
    },
    {
      "cell_type": "code",
      "source": [
        "# Run this cell if u can't mount ur drive automatically\n",
        "from google.colab import drive\n",
        "drive.mount('/content/drive')"
      ],
      "metadata": {
        "colab": {
          "base_uri": "https://localhost:8080/"
        },
        "id": "4rX50fTwxiee",
        "outputId": "601dbae4-27e6-4cb1-d947-0b197fd71904"
      },
      "execution_count": 1,
      "outputs": [
        {
          "output_type": "stream",
          "name": "stdout",
          "text": [
            "Mounted at /content/drive\n"
          ]
        }
      ]
    },
    {
      "cell_type": "markdown",
      "source": [
        "Convert model .h5 -> model .tflite and Post-training quantization\n"
      ],
      "metadata": {
        "id": "IozBcbhn3Z27"
      }
    },
    {
      "cell_type": "code",
      "execution_count": 2,
      "metadata": {
        "id": "Cii1KnMIxZ_8"
      },
      "outputs": [],
      "source": [
        "import tensorflow as tf\n",
        "import pathlib\n",
        "\n",
        "# Load model\n",
        "model=tf.keras.models.load_model('/content/drive/MyDrive/KHOA_LUAN/saved_model/ResNet50_Weather_epoch20.h5')\n",
        "\n",
        "# # Đường dẫn tới thư mục chứa ảnh\n",
        "# data_dir = \"F:/CODE_PYCHARM/KhoaLuan/saved_model/DataSet/dataset2\"\n",
        "# # Lấy danh sách các đường dẫn tới các tệp ảnh trong thư mục\n",
        "# data_root = pathlib.Path(data_dir)\n",
        "# all_image_paths = list(data_root.glob('*/*'))\n",
        "\n",
        "# # Hàm lambda trả về một dataset TensorFlow từ các đường dẫn ảnh\n",
        "# def representative_dataset_gen():\n",
        "#     for img_path in all_image_paths:\n",
        "#         # Đọc ảnh từ đường dẫn\n",
        "#         img = tf.io.read_file(str(img_path))\n",
        "#         # Xử lý ảnh (ví dụ: giảm kích thước xuống 224x224, chuẩn hóa,...)\n",
        "\n",
        "#         # Chuyển đổi kiểu dữ liệu và định dạng tensor\n",
        "#         img = tf.image.convert_image_dtype(img, tf.float32)\n",
        "#         img = tf.image.resize(img, (224, 224))  # Giả sử kích thước đầu vào của model là (224, 224, 3)\n",
        "#         img = tf.expand_dims(img, 0)  # Thêm một chiều cho batch\n",
        "#         yield [img]\n",
        "\n",
        "\n",
        "# # Define input shape for the model\n",
        "# input_shape = (1, 224, 224, 3)\n",
        "\n",
        "# Convert the model to a TensorFlow Lite model\n",
        "converter = tf.lite.TFLiteConverter.from_keras_model(model)\n",
        "\n",
        "converter.optimizations = [tf.lite.Optimize.DEFAULT]\n",
        "converter.target_spec.supported_types = [tf.float16]\n",
        "# converter.target_spec.supported_ops = [tf.lite.OpsSet.TFLITE_BUILTINS_INT8]\n",
        "# # Cài đặt kích thước đầu vào và đầu ra của model tflite\n",
        "# converter.inference_input_type = tf.uint8\n",
        "# converter.inference_output_type = tf.uint8\n",
        "# # Set input shape for the TFLite model\n",
        "# converter.representative_dataset = representative_dataset_gen\n",
        "# Convert model và lưu vào file .tflite\n",
        "tflite_model = converter.convert()\n",
        "with open('/content/drive/MyDrive/KHOA_LUAN/saved_model/ResNet50_Weather_epoch20_optimizing_date24.tflite', 'wb') as f:\n",
        "    f.write(tflite_model)\n",
        "\n"
      ]
    }
  ]
}